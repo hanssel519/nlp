{
 "cells": [
  {
   "cell_type": "markdown",
   "id": "b3e938d7",
   "metadata": {
    "id": "f9f9b469"
   },
   "source": [
    "## From BNC to Ngram \n",
    "\n",
    "### BNC Data:  \n",
    "https://drive.google.com/file/d/1mKX1DLHDIqKph4e4k1MnYOV3iWtvT7-E/view?usp=sharing\n",
    "\n",
    "### 1. Extract lines containing id, title, classcode, keywords, sentences from each BNC parts\n",
    "\n",
    "grep (global search regular RE)\n",
    "grep是很常見也很常用的命令，它的主要功能是進行字符串數據的比較，然後符合用戶需求的字符串打印出來，但是注意，grep在數據中查找一個字符串時，是以“整行”爲單位進行數據篩選的。\n",
    "\n",
    "egrep (extended RE)\n",
    "\n",
    "Reference\n",
    "https://www.twblogs.net/a/5d26d705bd9eee1e5c84509d"
   ]
  },
  {
   "cell_type": "code",
   "execution_count": 1,
   "id": "5d1063bf",
   "metadata": {
    "id": "afc2d87d",
    "outputId": "1c59e1a7-61b5-4122-8c70-ebe302b529b2"
   },
   "outputs": [
    {
     "name": "stdout",
     "output_type": "stream",
     "text": [
      "egrep -o -h  BNC/Texts/*/*/A*.xml > BNC.A.txt  309.20s user 0.73s system 99% cpu 5:11.82 total\n"
     ]
    }
   ],
   "source": [
    "! time ! egrep -o -h \\\n",
    "'(<idno type=\"bnc\">.*?</idno>|<title>.*?</title>|<classCode.*?</classCode>|<keywords>.*?</keywords>|<s n=\".*?\">|<w c5=\".*?\" hw=\".*?\" pos=\".*?\">.*?</w>|<c c5=\".*?\">.*?</c>|</s>|<p>|</p>)' \\\n",
    "BNC/Texts/*/*/A*.xml > BNC.A.txt"
   ]
  },
  {
   "cell_type": "code",
   "execution_count": null,
   "id": "f7c8ca49",
   "metadata": {},
   "outputs": [
    {
     "name": "stdout",
     "output_type": "stream",
     "text": [
      "egrep -o -h  BNC/Texts/*/*/B*.xml > BNC.B.txt  147.57s user 0.34s system 99% cpu 2:29.02 total\n",
      "egrep -o -h  BNC/Texts/*/*/C*.xml > BNC.C.txt  391.69s user 1.00s system 99% cpu 6:36.54 total\n",
      "egrep -o -h  BNC/Texts/*/*/D*.xml > BNC.D.txt  1.97s user 0.02s system 96% cpu 2.056 total\n",
      "egrep -o -h  BNC/Texts/*/*/E*.xml > BNC.E.txt  152.96s user 0.39s system 98% cpu 2:34.92 total\n",
      "egrep -o -h  BNC/Texts/*/*/F*.xml > BNC.F.txt  203.09s user 0.48s system 99% cpu 3:25.14 total\n",
      "egrep -o -h  BNC/Texts/*/*/G*.xml > BNC.G.txt  176.99s user 0.45s system 99% cpu 2:58.71 total\n"
     ]
    }
   ],
   "source": [
    "! time ! egrep -o -h \\\n",
    "'(<idno type=\"bnc\">.*?</idno>|<title>.*?</title>|<classCode.*?</classCode>|<keywords>.*?</keywords>|<s n=\".*?\">|<w c5=\".*?\" hw=\".*?\" pos=\".*?\">.*?</w>|<c c5=\".*?\">.*?</c>|</s>|<p>|</p>)' \\\n",
    "BNC/Texts/*/*/B*.xml > BNC.B.txt\n",
    "! time ! egrep -o -h \\\n",
    "'(<idno type=\"bnc\">.*?</idno>|<title>.*?</title>|<classCode.*?</classCode>|<keywords>.*?</keywords>|<s n=\".*?\">|<w c5=\".*?\" hw=\".*?\" pos=\".*?\">.*?</w>|<c c5=\".*?\">.*?</c>|</s>|<p>|</p>)' \\\n",
    "BNC/Texts/*/*/C*.xml > BNC.C.txt\n",
    "! time ! egrep -o -h \\\n",
    "'(<idno type=\"bnc\">.*?</idno>|<title>.*?</title>|<classCode.*?</classCode>|<keywords>.*?</keywords>|<s n=\".*?\">|<w c5=\".*?\" hw=\".*?\" pos=\".*?\">.*?</w>|<c c5=\".*?\">.*?</c>|</s>|<p>|</p>)' \\\n",
    "BNC/Texts/*/*/D*.xml > BNC.D.txt\n",
    "! time ! egrep -o -h \\\n",
    "'(<idno type=\"bnc\">.*?</idno>|<title>.*?</title>|<classCode.*?</classCode>|<keywords>.*?</keywords>|<s n=\".*?\">|<w c5=\".*?\" hw=\".*?\" pos=\".*?\">.*?</w>|<c c5=\".*?\">.*?</c>|</s>|<p>|</p>)' \\\n",
    "BNC/Texts/*/*/E*.xml > BNC.E.txt\n",
    "! time ! egrep -o -h \\\n",
    "'(<idno type=\"bnc\">.*?</idno>|<title>.*?</title>|<classCode.*?</classCode>|<keywords>.*?</keywords>|<s n=\".*?\">|<w c5=\".*?\" hw=\".*?\" pos=\".*?\">.*?</w>|<c c5=\".*?\">.*?</c>|</s>|<p>|</p>)' \\\n",
    "BNC/Texts/*/*/F*.xml > BNC.F.txt\n",
    "! time ! egrep -o -h \\\n",
    "'(<idno type=\"bnc\">.*?</idno>|<title>.*?</title>|<classCode.*?</classCode>|<keywords>.*?</keywords>|<s n=\".*?\">|<w c5=\".*?\" hw=\".*?\" pos=\".*?\">.*?</w>|<c c5=\".*?\">.*?</c>|</s>|<p>|</p>)' \\\n",
    "BNC/Texts/*/*/G*.xml > BNC.G.txt\n",
    "! time ! egrep -o -h \\\n",
    "'(<idno type=\"bnc\">.*?</idno>|<title>.*?</title>|<classCode.*?</classCode>|<keywords>.*?</keywords>|<s n=\".*?\">|<w c5=\".*?\" hw=\".*?\" pos=\".*?\">.*?</w>|<c c5=\".*?\">.*?</c>|</s>|<p>|</p>)' \\\n",
    "BNC/Texts/*/*/H*.xml > BNC.H.txt\n",
    "! time ! egrep -o -h \\\n",
    "'(<idno type=\"bnc\">.*?</idno>|<title>.*?</title>|<classCode.*?</classCode>|<keywords>.*?</keywords>|<s n=\".*?\">|<w c5=\".*?\" hw=\".*?\" pos=\".*?\">.*?</w>|<c c5=\".*?\">.*?</c>|</s>|<p>|</p>)' \\\n",
    "BNC/Texts/*/*/J*.xml > BNC.J.txt\n",
    "! time ! egrep -o -h \\\n",
    "'(<idno type=\"bnc\">.*?</idno>|<title>.*?</title>|<classCode.*?</classCode>|<keywords>.*?</keywords>|<s n=\".*?\">|<w c5=\".*?\" hw=\".*?\" pos=\".*?\">.*?</w>|<c c5=\".*?\">.*?</c>|</s>|<p>|</p>)' \\\n",
    "BNC/Texts/*/*/K*.xml > BNC.K.txt"
   ]
  },
  {
   "cell_type": "markdown",
   "id": "9157f10a",
   "metadata": {
    "id": "c572029d",
    "tags": []
   },
   "source": [
    "\n",
    "####        Repeat Step 1 for all sections A, B, C, D, E, F, G, H, J, and K "
   ]
  },
  {
   "cell_type": "markdown",
   "id": "682d7464",
   "metadata": {
    "id": "a20bcf30",
    "tags": []
   },
   "source": [
    " ### 2. Convert sentences to bigram (for all sections A to K, no I)\n",
    " ### 2.1 Convert line to word tokens"
   ]
  },
  {
   "cell_type": "code",
   "execution_count": 25,
   "id": "dc31f6e6",
   "metadata": {
    "id": "5b00de4c"
   },
   "outputs": [],
   "source": [
    "import re\n",
    "from pprint import pprint\n",
    "\n",
    "def line_to_token(line):\n",
    "    if line.startswith('<s'):\n",
    "        return ('<s> ', '<s>', '<s>') \n",
    "    elif line.startswith('</s'):\n",
    "        return ('</s>', '</s>', '</s>') \n",
    "    elif line.startswith('<w'):\n",
    "        # <w c5=\"VVN\" hw=\"discount\" pos=\"VERB\">discounted </w>\n",
    "        match = re.findall('<w c5=\"(.*?)\" hw=\"(.*?)\" pos=\".*?\">(.*?)</w>', line)\n",
    "        return (match[0][2].strip(), match[0][0].upper(), match[0][1]) # lemma, tag, word\n",
    "    elif line.startswith('<c'):\n",
    "        match = re.findall('<c c5=\"PUN\">(.*?)</c>', line)\n",
    "        if not match:\n",
    "            return '??? line'\n",
    "        return (match[0], match[0], match[0])\n",
    "\n",
    "def tokens_to_bigram(tokens):\n",
    "    result = []\n",
    "    for i in range(len(tokens)-1):\n",
    "        if i == 1:\n",
    "            word2tag2lemma2 = [tokens[i][j].lower()+' '+tokens[i+1][j] for j in range(3)]\n",
    "        else:\n",
    "            word2tag2lemma2 = [tokens[i][j]+' '+tokens[i+1][j] for j in range(3)]\n",
    "        if word2tag2lemma2[0][0].isalpha() or word2tag2lemma2[0][0] == '<': \n",
    "            result = result + [ '\\t'.join(word2tag2lemma2) ]\n",
    "    return result"
   ]
  },
  {
   "cell_type": "markdown",
   "id": "b70e07a8",
   "metadata": {
    "id": "fc5eb1cc"
   },
   "source": [
    "### 2.2 Convert token stream to bigram stream"
   ]
  },
  {
   "cell_type": "code",
   "execution_count": 26,
   "id": "7b1fe598",
   "metadata": {
    "id": "bb7a275e"
   },
   "outputs": [
    {
     "ename": "FileNotFoundError",
     "evalue": "[Errno 2] No such file or directory: 'BNC.J.txt'",
     "output_type": "error",
     "traceback": [
      "\u001b[0;31m---------------------------------------------------------------------------\u001b[0m",
      "\u001b[0;31mFileNotFoundError\u001b[0m                         Traceback (most recent call last)",
      "\u001b[0;32m<ipython-input-26-b6078a1edfcf>\u001b[0m in \u001b[0;36m<module>\u001b[0;34m\u001b[0m\n\u001b[1;32m     18\u001b[0m             \u001b[0mBatch_to_ngram\u001b[0m\u001b[0;34m(\u001b[0m\u001b[0mbatch\u001b[0m\u001b[0;34m,\u001b[0m \u001b[0mfileout\u001b[0m\u001b[0;34m)\u001b[0m\u001b[0;34m\u001b[0m\u001b[0;34m\u001b[0m\u001b[0m\n\u001b[1;32m     19\u001b[0m \u001b[0;34m\u001b[0m\u001b[0m\n\u001b[0;32m---> 20\u001b[0;31m \u001b[0mword_to_bigram\u001b[0m\u001b[0;34m(\u001b[0m\u001b[0;34m'BNC.{0}.txt'\u001b[0m\u001b[0;34m,\u001b[0m \u001b[0;34m'BNC.2w.txt'\u001b[0m\u001b[0;34m)\u001b[0m\u001b[0;34m\u001b[0m\u001b[0;34m\u001b[0m\u001b[0m\n\u001b[0m",
      "\u001b[0;32m<ipython-input-26-b6078a1edfcf>\u001b[0m in \u001b[0;36mword_to_bigram\u001b[0;34m(wordfile, bigramfile)\u001b[0m\n\u001b[1;32m     16\u001b[0m     \u001b[0;32mwith\u001b[0m \u001b[0mopen\u001b[0m\u001b[0;34m(\u001b[0m\u001b[0mbigramfile\u001b[0m\u001b[0;34m,\u001b[0m \u001b[0;34m'w'\u001b[0m\u001b[0;34m)\u001b[0m \u001b[0;32mas\u001b[0m \u001b[0mfileout\u001b[0m\u001b[0;34m:\u001b[0m\u001b[0;34m\u001b[0m\u001b[0;34m\u001b[0m\u001b[0m\n\u001b[1;32m     17\u001b[0m         \u001b[0;32mfor\u001b[0m \u001b[0mbatch\u001b[0m \u001b[0;32min\u001b[0m \u001b[0;34m'ABCDEFGHJK'\u001b[0m\u001b[0;34m:\u001b[0m\u001b[0;34m\u001b[0m\u001b[0;34m\u001b[0m\u001b[0m\n\u001b[0;32m---> 18\u001b[0;31m             \u001b[0mBatch_to_ngram\u001b[0m\u001b[0;34m(\u001b[0m\u001b[0mbatch\u001b[0m\u001b[0;34m,\u001b[0m \u001b[0mfileout\u001b[0m\u001b[0;34m)\u001b[0m\u001b[0;34m\u001b[0m\u001b[0;34m\u001b[0m\u001b[0m\n\u001b[0m\u001b[1;32m     19\u001b[0m \u001b[0;34m\u001b[0m\u001b[0m\n\u001b[1;32m     20\u001b[0m \u001b[0mword_to_bigram\u001b[0m\u001b[0;34m(\u001b[0m\u001b[0;34m'BNC.{0}.txt'\u001b[0m\u001b[0;34m,\u001b[0m \u001b[0;34m'BNC.2w.txt'\u001b[0m\u001b[0;34m)\u001b[0m\u001b[0;34m\u001b[0m\u001b[0;34m\u001b[0m\u001b[0m\n",
      "\u001b[0;32m<ipython-input-26-b6078a1edfcf>\u001b[0m in \u001b[0;36mBatch_to_ngram\u001b[0;34m(batch, fileout)\u001b[0m\n\u001b[1;32m      2\u001b[0m \u001b[0;34m\u001b[0m\u001b[0m\n\u001b[1;32m      3\u001b[0m     \u001b[0;32mdef\u001b[0m \u001b[0mBatch_to_ngram\u001b[0m\u001b[0;34m(\u001b[0m\u001b[0mbatch\u001b[0m\u001b[0;34m,\u001b[0m \u001b[0mfileout\u001b[0m\u001b[0;34m)\u001b[0m\u001b[0;34m:\u001b[0m\u001b[0;34m\u001b[0m\u001b[0;34m\u001b[0m\u001b[0m\n\u001b[0;32m----> 4\u001b[0;31m         \u001b[0;32mwith\u001b[0m \u001b[0mopen\u001b[0m\u001b[0;34m(\u001b[0m\u001b[0mwordfile\u001b[0m\u001b[0;34m.\u001b[0m\u001b[0mformat\u001b[0m\u001b[0;34m(\u001b[0m\u001b[0mbatch\u001b[0m\u001b[0;34m)\u001b[0m\u001b[0;34m)\u001b[0m \u001b[0;32mas\u001b[0m \u001b[0mfilein\u001b[0m\u001b[0;34m:\u001b[0m\u001b[0;34m\u001b[0m\u001b[0;34m\u001b[0m\u001b[0m\n\u001b[0m\u001b[1;32m      5\u001b[0m             \u001b[0mlines\u001b[0m \u001b[0;34m=\u001b[0m \u001b[0mfilein\u001b[0m\u001b[0;34m.\u001b[0m\u001b[0mreadlines\u001b[0m\u001b[0;34m(\u001b[0m\u001b[0;34m)\u001b[0m\u001b[0;34m\u001b[0m\u001b[0;34m\u001b[0m\u001b[0m\n\u001b[1;32m      6\u001b[0m             \u001b[0;32mfor\u001b[0m \u001b[0mi\u001b[0m\u001b[0;34m,\u001b[0m \u001b[0mline\u001b[0m \u001b[0;32min\u001b[0m \u001b[0menumerate\u001b[0m\u001b[0;34m(\u001b[0m\u001b[0mlines\u001b[0m\u001b[0;34m)\u001b[0m\u001b[0;34m:\u001b[0m\u001b[0;34m\u001b[0m\u001b[0;34m\u001b[0m\u001b[0m\n",
      "\u001b[0;31mFileNotFoundError\u001b[0m: [Errno 2] No such file or directory: 'BNC.J.txt'"
     ]
    }
   ],
   "source": [
    "def word_to_bigram(wordfile, bigramfile):\n",
    "    \n",
    "    def Batch_to_ngram(batch, fileout):        \n",
    "        with open(wordfile.format(batch)) as filein:\n",
    "            lines = filein.readlines()\n",
    "            for i, line in enumerate(lines):\n",
    "                if line.startswith('<s'):\n",
    "                    sent_start = i\n",
    "                elif line.startswith('</s'):\n",
    "                    sentence = [line.strip() for line in lines[sent_start:i+1]]\n",
    "                    tokens = [line_to_token(line) for line in sentence ]\n",
    "                    #pprint (tokens)\n",
    "                    bigram = tokens_to_bigram(tokens)\n",
    "                    print('\\n'.join(bigram), file=fileout)\n",
    "    \n",
    "    with open(bigramfile, 'w') as fileout:\n",
    "        for batch in 'ABCDEFGHJK':\n",
    "            Batch_to_ngram(batch, fileout)\n",
    "                \n",
    "word_to_bigram('BNC.{0}.txt', 'BNC.2w.txt')"
   ]
  },
  {
   "cell_type": "markdown",
   "id": "befc0185",
   "metadata": {
    "id": "1eadce87"
   },
   "source": [
    "### 3 Sort and count bigram (word1 word2 \\<tab\\> count) "
   ]
  },
  {
   "cell_type": "code",
   "execution_count": 27,
   "id": "a029472c",
   "metadata": {
    "id": "b268aac8",
    "outputId": "20af1767-a0b3-429c-9b1b-d8dac6a33110"
   },
   "outputs": [
    {
     "name": "stdout",
     "output_type": "stream",
     "text": [
      "718.16user 9.08system 2:54.57elapsed 416%CPU (0avgtext+0avgdata 15676748maxresident)k\n",
      "5874520inputs+0outputs (0major+3918661minor)pagefaults 0swaps\n"
     ]
    }
   ],
   "source": [
    "#1 BNC.2w.txt ==> BNC.2w.c.txt\n",
    "! time sort BNC.2w.txt | uniq -c | \\\n",
    "awk '{ gsub(/^[ ]*/, \"\"); print }' | awk '{print substr($0, index($0, \" \")+1) \"\\t\" $1}' > BNC.2w.c.txt"
   ]
  },
  {
   "cell_type": "code",
   "execution_count": 28,
   "id": "11f0ac29",
   "metadata": {
    "id": "12341e3c",
    "outputId": "6819ee0e-7a6e-4495-ab9c-6d23225695fc"
   },
   "outputs": [
    {
     "name": "stdout",
     "output_type": "stream",
     "text": [
      "big accident\tAJ0 NN1\tbig accident\t3\n",
      "fatal accident\taj0 NN1\tfatal accident\t3\n",
      "fatal accident\tAJ0 NN1\tfatal accident\t82\n",
      "serious accident\tAJ0 NN1\tserious accident\t61\n"
     ]
    }
   ],
   "source": [
    "! egrep '^(big|serious|fatal) accident\t' BNC.2w.c.txt"
   ]
  },
  {
   "cell_type": "markdown",
   "id": "9d7071a8",
   "metadata": {
    "id": "4y3_Vuf3NBlS"
   },
   "source": [
    "Target output:  \n",
    "https://drive.google.com/file/d/1xM46aaDIeu4Z0FkikGOcmDoq7u2O47tY/view?usp=sharing"
   ]
  },
  {
   "cell_type": "code",
   "execution_count": 29,
   "id": "23f103f0",
   "metadata": {
    "id": "fvWU9t9GNZhP"
   },
   "outputs": [
    {
     "name": "stdout",
     "output_type": "stream",
     "text": [
      "above accident\tAJ0 NN1\tabove accident\t1\n",
      "abseiling accident\tAJ0 NN1\tabseiling accident\t2\n",
      "actual accident\tAJ0 NN1\tactual accident\t11\n",
      "additional accident\tAJ0 NN1\tadditional accident\t1\n",
      "annual accident\taj0 NN1\tannual accident\t1\n",
      "appalling accident\tAJ0 NN1\tappalling accident\t5\n",
      "avoidable accident\tAJ0 NN1\tavoidable accident\t1\n",
      "awful accident\tAJ0 NN1\tawful accident\t3\n",
      "bad accident\tAJ0 NN1\tbad accident\t16\n",
      "ballooning accident\tAJ0 NN1\tballooning accident\t1\n",
      "big accident\tAJ0 NN1\tbig accident\t3\n",
      "bizarre accident\tAJ0 NN1\tbizarre accident\t2\n",
      "blame–free accident\tAJ0 NN1\tblame–free accident\t1\n",
      "blameless accident\tAJ0 NN1\tblameless accident\t1\n",
      "blameworthy accident\tAJ0 NN1\tblameworthy accident\t1\n",
      "bleeding accident\tAJ0 NN1\tbleeding accident\t1\n",
      "British accident\tAJ0 NN1\tbritish accident\t1\n",
      "catastrophic accident\tAJ0 NN1\tcatastrophic accident\t3\n",
      "cerebral accident\tAJ0 NN1\tcerebral accident\t1\n",
      "cerebro-vascular accident\tAJ0 NN1\tcerebro-vascular accident\t1\n",
      "cerebrovascular accident\tAJ0 NN1\tcerebrovascular accident\t5\n",
      "certain accident\tAJ0 NN1\tcertain accident\t3\n",
      "chemical accident\tAJ0 NN1\tchemical accident\t2\n",
      "chemical accident\tAJ0-NN1 NN1\tchemical accident\t1\n",
      "Chernobyl-type accident\tAJ0 NN1\tchernobyl-type accident\t1\n",
      "Chernobyl-type accident\tAJ0-NN1 NN1\tchernobyl-type accident\t1\n",
      "classic accident\tAJ0-NN1 NN1\tclassic accident\t1\n",
      "closed accident\tAJ0 NN1\tclosed accident\t1\n",
      "collusive accident\tAJ0 NN1\tcollusive accident\t1\n",
      "combined accident\tAJ0 NN1\tcombined accident\t2\n",
      "common accident\tAJ0 NN1\tcommon accident\t1\n",
      "complete accident\taj0 NN1\tcomplete accident\t1\n",
      "complete accident\tAJ0 NN1\tcomplete accident\t5\n",
      "conceivable accident\tAJ0 NN1\tconceivable accident\t1\n",
      "considerable accident\tAJ0 NN1\tconsiderable accident\t1\n",
      "cricketing accident\tAJ0 NN1\tcricketing accident\t1\n",
      "crippling accident\tAJ0 NN1\tcrippling accident\t1\n",
      "cruel accident\tAJ0 NN1\tcruel accident\t1\n",
      "curious accident\tAJ0 NN1\tcurious accident\t1\n",
      "dangerous accident\tAJ0 NN1\tdangerous accident\t2\n",
      "different accident\tAJ0 NN1\tdifferent accident\t1\n",
      "disabling accident\tAJ0 NN1\tdisabling accident\t4\n",
      "disastrous accident\tAJ0 NN1\tdisastrous accident\t2\n",
      "dismal accident\tAJ0 NN1\tdismal accident\t1\n",
      "dive-bombing accident\tAJ0 NN1\tdive-bombing accident\t1\n",
      "divine accident\taj0 NN1\tdivine accident\t1\n",
      "diving accident\tAJ0 NN1\tdiving accident\t1\n",
      "domestic accident\tAJ0 NN1\tdomestic accident\t2\n",
      "dreadful accident\tAJ0 NN1\tdreadful accident\t4\n",
      "drink-drive accident\tAJ0 NN1\tdrink-drive accident\t1\n",
      "drink-driving accident\tAJ0 NN1\tdrink-driving accident\t1\n",
      "drowning accident\tAJ0 NN1\tdrowning accident\t2\n",
      "drowning accident\tAJ0-NN1 NN1\tdrowning accident\t4\n",
      "early accident\tAJ0 NN1\tearly accident\t1\n",
      "empty accident\tAJ0 NN1\tempty accident\t1\n",
      "entertaining accident\tAJ0 NN1\tentertaining accident\t1\n",
      "exceptional accident\tAJ0 NN1\texceptional accident\t1\n",
      "expensive accident\tAJ0 NN1\texpensive accident\t1\n",
      "experienced accident\tAJ0 NN1\texperienced accident\t1\n",
      "external accident\tAJ0 NN1\texternal accident\t2\n",
      "famous accident\tAJ0 NN1\tfamous accident\t1\n",
      "fatal accident\taj0 NN1\tfatal accident\t3\n",
      "fatal accident\tAJ0 NN1\tfatal accident\t82\n",
      "FATAL accident\tAJ0 NN1\tfatal accident\t1\n",
      "fateful accident\tAJ0 NN1\tfateful accident\t1\n",
      "fearful accident\tAJ0 NN1\tfearful accident\t1\n",
      "female accident\tAJ0-NN1 NN1\tfemale accident\t1\n",
      "fictitious accident\tAJ0 NN1\tfictitious accident\t1\n",
      "first-lap accident\tAJ0 NN1\tfirst-lap accident\t1\n",
      "flying accident\tAJ0 NN1\tflying accident\t5\n",
      "flying accident\tAJ0-NN1 NN1\tflying accident\t2\n",
      "fog-related accident\tAJ0-NN1 NN1\tfog-related accident\t1\n",
      "Ford-approved accident\tAJ0-NN1 NN1\tford-approved accident\t1\n",
      "fortuitous accident\tAJ0 NN1\tfortuitous accident\t1\n",
      "fortunate accident\tAJ0 NN1\tfortunate accident\t1\n",
      "freak accident\taj0 NN1\tfreak accident\t1\n",
      "freak accident\tAJ0 NN1\tfreak accident\t21\n",
      "freak accident\tAJ0-NN1 NN1\tfreak accident\t6\n",
      "free accident\tAJ0 NN1\tfree accident\t1\n",
      "French accident\tAJ0-NN1 NN1\tfrench accident\t1\n",
      "fresh accident\tAJ0 NN1\tfresh accident\t1\n",
      "frightful accident\tAJ0 NN1\tfrightful accident\t1\n",
      "front accident\taj0 NN1\tfront accident\t1\n",
      "full accident\tAJ0 NN1\tfull accident\t3\n",
      "genealogical accident\tAJ0 NN1\tgenealogical accident\t1\n",
      "genetic accident\tAJ0 NN1\tgenetic accident\t3\n",
      "genuine accident\tAJ0 NN1\tgenuine accident\t1\n",
      "geographical accident\taj0 NN1\tgeographical accident\t1\n",
      "geographical accident\tAJ0 NN1\tgeographical accident\t2\n",
      "goddam accident\tAJ0 NN1\tgoddam accident\t1\n",
      "good accident\tAJ0 NN1\tgood accident\t2\n",
      "gory accident\tAJ0 NN1\tgory accident\t2\n",
      "grave accident\tAJ0-NN1 NN1\tgrave accident\t1\n",
      "happy accident\tAJ0 NN1\thappy accident\t11\n",
      "heavy accident\tAJ0 NN1\theavy accident\t1\n",
      "hefty accident\tAJ0 NN1\thefty accident\t1\n",
      "heroic accident\tAJ0 NN1\theroic accident\t1\n",
      "hideous accident\tAJ0 NN1\thideous accident\t1\n",
      "high accident\tAJ0 NN1\thigh accident\t6\n",
      "historical accident\taj0 NN1\thistorical accident\t1\n",
      "historical accident\tAJ0 NN1\thistorical accident\t16\n",
      "hit-and-run accident\taj0 NN1\thit-and-run accident\t1\n",
      "hit-and-run accident\tAJ0 NN1\thit-and-run accident\t9\n",
      "horrendous accident\tAJ0 NN1\thorrendous accident\t2\n",
      "horrible accident\tAJ0 NN1\thorrible accident\t2\n",
      "horrific accident\tAJ0 NN1\thorrific accident\t12\n",
      "horrifying accident\tAJ0 NN1\thorrifying accident\t1\n",
      "huge accident\tAJ0 NN1\thuge accident\t1\n",
      "hypothetical accident\tAJ0 NN1\thypothetical accident\t1\n",
      "identifiable accident\tAJ0 NN1\tidentifiable accident\t1\n",
      "immediate accident\tAJ0 NN1\timmediate accident\t1\n",
      "immediate pre-accident\tAJ0 AJ0-NN1\timmediate pre-accident\t1\n",
      "impending accident\tAJ0 NN1\timpending accident\t1\n",
      "improved accident\tAJ0 NN1\timproved accident\t2\n",
      "improved accident\tAJ0-VVN NN1\timproved accident\t1\n",
      "incendiary accident\tAJ0 NN1\tincendiary accident\t1\n",
      "increased accident\tAJ0 NN1\tincreased accident\t1\n",
      "industrial accident\tAJ0 NN1\tindustrial accident\t18\n",
      "inevitable accident\tAJ0 NN1\tinevitable accident\t6\n",
      "inexplicable accident\tAJ0 NN1\tinexplicable accident\t1\n",
      "insignificant accident\tAJ0 NN1\tinsignificant accident\t1\n",
      "interesting accident\tAJ0 NN1\tinteresting accident\t1\n",
      "key accident\tAJ0 NN1\tkey accident\t1\n",
      "large accident\tAJ0 NN1\tlarge accident\t1\n",
      "life-threatening accident\tAJ0 NN1\tlife-threatening accident\t1\n",
      "likely accident\tAJ0 NN1\tlikely accident\t1\n",
      "little accident\tAJ0 NN1\tlittle accident\t15\n",
      "local accident\tAJ0 NN1\tlocal accident\t1\n",
      "loss-of-coolant accident\tAJ0 NN1\tloss-of-coolant accident\t1\n",
      "lost-time accident\tAJ0 NN1\tlost-time accident\t1\n",
      "low accident\tAJ0 NN1\tlow accident\t4\n",
      "lowered accident\tAJ0 NN1\tlowered accident\t1\n",
      "lucky accident\tAJ0 NN1\tlucky accident\t5\n",
      "ludicrous accident\tAJ0 NN1\tludicrous accident\t1\n",
      "macabre accident\tAJ0 NN1\tmacabre accident\t1\n",
      "major accident\tAJ0 NN1\tmajor accident\t23\n",
      "male major-accident\tAJ0 AJ0-NN1\tmale major-accident\t1\n",
      "marine accident\tAJ0 NN1\tmarine accident\t6\n",
      "mean accident\tAJ0 NN1\tmean accident\t10\n",
      "measured accident\tAJ0 NN1\tmeasured accident\t1\n",
      "medical accident\tAJ0 NN1\tmedical accident\t5\n",
      "mere accident\tAJ0 NN1\tmere accident\t5\n",
      "military accident\tAJ0 NN1\tmilitary accident\t1\n",
      "minor accident\tAJ0 NN1\tminor accident\t9\n",
      "miraculous accident\tAJ0 NN1\tmiraculous accident\t1\n",
      "mock accident\tAJ0 NN1\tmock accident\t1\n",
      "modal accident\tAJ0-NN1 NN1\tmodal accident\t1\n",
      "multiple accident\tAJ0 NN1\tmultiple accident\t1\n",
      "mutilating accident\tAJ0-NN1 NN1\tmutilating accident\t1\n",
      "mysterious accident\tAJ0 NN1\tmysterious accident\t1\n",
      "nasty accident\tAJ0 NN1\tnasty accident\t15\n",
      "Nasty accident\tAJ0 NN1\tnasty accident\t2\n",
      "national accident\tAJ0 NN1\tnational accident\t2\n",
      "naval accident\tAJ0 NN1\tnaval accident\t1\n",
      "near accident\tAJ0 NN1\tnear accident\t2\n",
      "near-fatal accident\tAJ0 NN1\tnear-fatal accident\t2\n",
      "nepalese accident\taj0 NN1\tnepalese accident\t1\n",
      "new accident\tAJ0 NN1\tnew accident\t2\n",
      "non-fatal accident\tAJ0 NN1\tnon-fatal accident\t1\n",
      "normal accident\tAJ0 NN1\tnormal accident\t2\n",
      "notifiable accident\tAJ0 NN1\tnotifiable accident\t1\n",
      "notorious accident\tAJ0 NN1\tnotorious accident\t2\n",
      "nuclear accident\taj0 NN1\tnuclear accident\t1\n",
      "nuclear accident\tAJ0 NN1\tnuclear accident\t41\n",
      "objective accident\tAJ0-NN1 NN1\tobjective accident\t1\n",
      "obscure accident\tAJ0 NN1\tobscure accident\t1\n",
      "occupational accident\tAJ0 NN1\toccupational accident\t1\n",
      "official accident\tAJ0-NN1 NN1\tofficial accident\t2\n",
      "official accident\tAJ0 NN1\tofficial accident\t3\n",
      "old accident\tAJ0 NN1\told accident\t1\n",
      "one-off accident\tAJ0 NN1\tone-off accident\t1\n",
      "only accident\tAJ0 NN1\tonly accident\t1\n",
      "onstage accident\tAJ0 NN1\tonstage accident\t2\n",
      "open accident\tAJ0 NN1\topen accident\t1\n",
      "original accident\tAJ0 NN1\toriginal accident\t2\n",
      "other accident\tAJ0 NN1\tother accident\t1\n",
      "over accident\tAJ0 NN1\tover accident\t1\n",
      "painful accident\tAJ0 NN1\tpainful accident\t1\n",
      "Palazzese accident\tAJ0 NN1\tpalazzese accident\t1\n",
      "parachuting accident\tAJ0 NN1\tparachuting accident\t2\n",
      "particular accident\tAJ0 NN1\tparticular accident\t8\n",
      "past accident\tAJ0-NN1 NN1\tpast accident\t1\n",
      "peculiar accident\tAJ0 NN1\tpeculiar accident\t2\n",
      "personal accident\taj0 NN1\tpersonal accident\t4\n",
      "personal accident\tAJ0 NN1\tpersonal accident\t23\n",
      "Personal accident\tAJ0 NN1\tpersonal accident\t1\n",
      "physiological accident\tAJ0 NN1\tphysiological accident\t1\n",
      "playing accident\tAJ0 NN1\tplaying accident\t1\n",
      "political accident\tAJ0 NN1\tpolitical accident\t1\n",
      "poor accident\tAJ0 NN1\tpoor accident\t3\n",
      "possible accident\tAJ0 NN1\tpossible accident\t3\n",
      "potential accident\tAJ0-NN1 NN1\tpotential accident\t1\n",
      "potential accident\tAJ0 NN1\tpotential accident\t1\n",
      "predictable accident\tAJ0 NN1\tpredictable accident\t2\n",
      "predicted accident\tAJ0 NN1\tpredicted accident\t1\n",
      "preliminary accident\tAJ0 NN1\tpreliminary accident\t1\n",
      "previous accident\tAJ0 NN1\tprevious accident\t1\n",
      "proposed accident\taj0 NN1\tproposed accident\t1\n",
      "pure accident\taj0 NN1\tpure accident\t1\n",
      "pure accident\tAJ0 NN1\tpure accident\t10\n",
      "quarrying accident\tAJ0 NN1\tquarrying accident\t1\n",
      "quiet accident\tAJ0 NN1\tquiet accident\t1\n",
      "racing accident\tAJ0 NN1\tracing accident\t1\n",
      "raw accident\tAJ0 NN1\traw accident\t1\n",
      "real accident\tAJ0 NN1\treal accident\t3\n",
      "recent accident\tAJ0 NN1\trecent accident\t9\n",
      "recommended accident\tAJ0 NN1\trecommended accident\t1\n",
      "recordable accident\tAJ0 NN1\trecordable accident\t1\n",
      "reduced accident\tAJ0 NN1\treduced accident\t1\n",
      "related accident\tAJ0-VVD NN1\trelated accident\t1\n",
      "reportable accident\tAJ0 NN1\treportable accident\t1\n",
      "resuscitated accident\tAJ0 NN1\tresuscitated accident\t1\n",
      "sad accident\tAJ0 NN1\tsad accident\t2\n",
      "saved accident\tAJ0 NN1\tsaved accident\t1\n",
      "scalding accident\tAJ0 NN1\tscalding accident\t1\n",
      "seeming accident\tAJ0 NN1\tseeming accident\t1\n",
      "senseless accident\tAJ0 NN1\tsenseless accident\t1\n",
      "separate accident\tAJ0 NN1\tseparate accident\t2\n",
      "serious accident\tAJ0 NN1\tserious accident\t61\n",
      "severe accident\tAJ0 NN1\tsevere accident\t4\n",
      "shaming accident\tAJ0 NN1\tshaming accident\t1\n",
      "sheer accident\tAJ0 NN1\tsheer accident\t1\n",
      "silly accident\taj0 NN1\tsilly accident\t1\n",
      "silly accident\tAJ0 NN1\tsilly accident\t1\n",
      "similar accident\tAJ0 NN1\tsimilar accident\t8\n",
      "simple accident\tAJ0 NN1\tsimple accident\t3\n",
      "simulated accident\tAJ0 NN1\tsimulated accident\t1\n",
      "single accident\tAJ0 NN1\tsingle accident\t3\n",
      "slight accident\tAJ0 NN1\tslight accident\t4\n",
      "small accident\tAJ0 NN1\tsmall accident\t3\n",
      "so-called accident\tAJ0 NN1\tso-called accident\t1\n",
      "social accident\tAJ0 NN1\tsocial accident\t1\n",
      "sorry accident\tAJ0 NN1\tsorry accident\t1\n",
      "specific accident\tAJ0 NN1\tspecific accident\t2\n",
      "spectacular accident\tAJ0 NN1\tspectacular accident\t3\n",
      "spontaneous accident\tAJ0 NN1\tspontaneous accident\t1\n",
      "sporting accident\tAJ0-NN1 NN1\tsporting accident\t1\n",
      "sporting accident\tAJ0 NN1\tsporting accident\t2\n",
      "strange accident\tAJ0 NN1\tstrange accident\t3\n",
      "structural accident\tAJ0 NN1\tstructural accident\t1\n",
      "stupid accident\tAJ0 NN1\tstupid accident\t2\n",
      "subjective accident\tAJ0 NN1\tsubjective accident\t1\n",
      "subsequent accident\tAJ0 NN1\tsubsequent accident\t1\n",
      "substantial accident\tAJ0 NN1\tsubstantial accident\t1\n",
      "sudden accident\tAJ0 NN1\tsudden accident\t2\n",
      "supposed accident\tAJ0 NN1\tsupposed accident\t2\n",
      "taxying accident\tAJ0-NN1 NN1\ttaxying accident\t1\n",
      "taxying accident\tAJ0 NN1\ttaxying accident\t1\n",
      "terrible accident\tAJ0 NN1\tterrible accident\t26\n",
      "theoretical accident\tAJ0 NN1\ttheoretical accident\t1\n",
      "third-party accident\tAJ0 NN1\tthird-party accident\t1\n",
      "TMI accident\tAJ0-NN1 NN1\ttmi accident\t6\n",
      "total accident\tAJ0 NN1\ttotal accident\t1\n",
      "tragic accident\tAJ0 NN1\ttragic accident\t32\n",
      "true accident\tAJ0 NN1\ttrue accident\t1\n",
      "two-car accident\tAJ0 NN1\ttwo-car accident\t1\n",
      "unavoidable accident\tAJ0 NN1\tunavoidable accident\t1\n",
      "unconstrained accident\tAJ0 NN1\tunconstrained accident\t1\n",
      "underground accident\tAJ0 NN1\tunderground accident\t1\n",
      "undisclosed accident\tAJ0 NN1\tundisclosed accident\t1\n",
      "unexplained accident\tAJ0 NN1\tunexplained accident\t2\n",
      "unfortunate accident\tAJ0 NN1\tunfortunate accident\t16\n",
      "unknown accident\tAJ0 NN1\tunknown accident\t1\n",
      "unlucky accident\tAJ0 NN1\tunlucky accident\t1\n",
      "unnecessary accident\tAJ0 NN1\tunnecessary accident\t1\n",
      "unplanned accident\tAJ0 NN1\tunplanned accident\t1\n",
      "unspecified accident\tAJ0 NN1\tunspecified accident\t1\n",
      "unsurvivable accident\tAJ0 NN1\tunsurvivable accident\t1\n",
      "unthinkable accident\tAJ0 NN1\tunthinkable accident\t1\n",
      "various accident\tAJ0 NN1\tvarious accident\t1\n",
      "wretched accident\tAJ0 NN1\twretched accident\t1\n"
     ]
    }
   ],
   "source": [
    "! egrep 'accident\t(AJ0|aj0)' BNC.2w.c.txt "
   ]
  },
  {
   "cell_type": "code",
   "execution_count": 24,
   "id": "be17d3fb",
   "metadata": {},
   "outputs": [
    {
     "name": "stdout",
     "output_type": "stream",
     "text": [
      "big accident\tAJ0 NN1\tbig accident\t1\n",
      "cerebrovascular accident\tAJ0 NN1\tcerebrovascular accident\t1\n",
      "collusive accident\tAJ0 NN1\tcollusive accident\t1\n",
      "common accident\tAJ0 NN1\tcommon accident\t1\n",
      "conceivable accident\tAJ0 NN1\tconceivable accident\t1\n",
      "diving accident\tAJ0 NN1\tdiving accident\t1\n",
      "dreadful accident\tAJ0 NN1\tdreadful accident\t2\n",
      "entertaining accident\tAJ0 NN1\tentertaining accident\t1\n",
      "exceptional accident\tAJ0 NN1\texceptional accident\t1\n",
      "fatal accident\tAJ0 NN1\tfatal accident\t3\n",
      "flying accident\tAJ0 NN1\tflying accident\t1\n",
      "freak accident\tAJ0 NN1\tfreak accident\t3\n",
      "freak accident\tAJ0-NN1 NN1\tfreak accident\t1\n",
      "free accident\tAJ0 NN1\tfree accident\t1\n",
      "full accident\tAJ0 NN1\tfull accident\t1\n",
      "heavy accident\tAJ0 NN1\theavy accident\t1\n",
      "historical accident\tAJ0 NN1\thistorical accident\t2\n",
      "hit-and-run accident\tAJ0 NN1\thit-and-run accident\t1\n",
      "huge accident\tAJ0 NN1\thuge accident\t1\n",
      "immediate accident\tAJ0 NN1\timmediate accident\t1\n",
      "industrial accident\tAJ0 NN1\tindustrial accident\t3\n",
      "likely accident\tAJ0 NN1\tlikely accident\t1\n",
      "little accident\tAJ0 NN1\tlittle accident\t1\n",
      "lucky accident\tAJ0 NN1\tlucky accident\t2\n",
      "medical accident\tAJ0 NN1\tmedical accident\t1\n",
      "mere accident\tAJ0 NN1\tmere accident\t3\n",
      "nasty accident\tAJ0 NN1\tnasty accident\t1\n",
      "normal accident\tAJ0 NN1\tnormal accident\t1\n",
      "nuclear accident\tAJ0 NN1\tnuclear accident\t3\n",
      "only accident\tAJ0 NN1\tonly accident\t1\n",
      "original accident\tAJ0 NN1\toriginal accident\t1\n",
      "painful accident\tAJ0 NN1\tpainful accident\t1\n",
      "particular accident\tAJ0 NN1\tparticular accident\t1\n",
      "personal accident\tAJ0 NN1\tpersonal accident\t3\n",
      "pure accident\tAJ0 NN1\tpure accident\t1\n",
      "recent accident\tAJ0 NN1\trecent accident\t1\n",
      "related accident\tAJ0-VVD NN1\trelated accident\t1\n",
      "sad accident\tAJ0 NN1\tsad accident\t2\n",
      "serious accident\tAJ0 NN1\tserious accident\t6\n",
      "similar accident\tAJ0 NN1\tsimilar accident\t2\n",
      "stupid accident\tAJ0 NN1\tstupid accident\t1\n",
      "terrible accident\tAJ0 NN1\tterrible accident\t2\n",
      "tragic accident\tAJ0 NN1\ttragic accident\t2\n",
      "unfortunate accident\tAJ0 NN1\tunfortunate accident\t1\n",
      "unsurvivable accident\tAJ0 NN1\tunsurvivable accident\t1\n"
     ]
    }
   ],
   "source": [
    "! egrep '(accident\tAJ0|accident\taj0)' BNC.2w.c.txt "
   ]
  },
  {
   "cell_type": "code",
   "execution_count": 1,
   "id": "d5ad72f7",
   "metadata": {},
   "outputs": [],
   "source": [
    "import os\n",
    "import re\n",
    "import string"
   ]
  },
  {
   "cell_type": "code",
   "execution_count": 2,
   "id": "6314307f",
   "metadata": {},
   "outputs": [],
   "source": [
    "a_string = '!hi. wh?at is the weat[h]er lik?e.'\n",
    "new_string = re.sub(r'[^\\w\\s]', '', a_string)\n",
    "\n",
    "def tokenize(text):\n",
    "    \"\"\"\n",
    "    Input:\n",
    "    \"This is an example.'\n",
    "\n",
    "    Sample output: \n",
    "    ['this', 'is', 'an', 'example', '.']\n",
    "    \"\"\"  \n",
    "    #### [ TODO ] transform text to lower case\n",
    "    text = text.lower()\n",
    "    #### [ TODO ] seperate the words by white space\n",
    "    # Use .translate() for the fastest performance\n",
    "        # print(string.punctuation)\n",
    "        # Returns: !\"#$%&'()*+,-./:;<=>?@[\\]^_`{|}~\n",
    "    text = re.sub(r'[0-9]', \" \", text)\n",
    "    # option1 \n",
    "    #text = text.replace('\\n', ' ')\n",
    "    tokens = text.translate(str.maketrans('', '', string.punctuation)).split()\n",
    "    # option2\n",
    "    #text = text.replace(' \\'', '\\'')\n",
    "    #tokens = text.translate(str.maketrans('', '', '!\"#$%&()*+,-./:;<=>?@[\\]^_`{|}~')).split()\n",
    "    return tokens\n",
    "    \n",
    "from collections import Counter\n",
    "\n",
    "def calculate_frequency(tokens):\n",
    "    \"\"\"\n",
    "    Input:\n",
    "    ['this', 'is', 'an', 'example', ...]\n",
    "\n",
    "    Sample output: \n",
    "    {\n",
    "        'the': 79809, \n",
    "        'project': 288,\n",
    "        ...\n",
    "    }\n",
    "    \"\"\"\n",
    "    #### [ TODO ] \n",
    "    fre = Counter(tokens)\n",
    "    return fre\n",
    "\n",
    "# 回傳\n",
    "def get_ngram(tokens, n=2):\n",
    "    \"\"\"\n",
    "    Input:\n",
    "    ['this', 'is', 'an', 'example', ...]\n",
    "\n",
    "    Sample output: \n",
    "    ['this is', 'is an', 'an example', ...]\n",
    "    \"\"\"\n",
    "    #### [TODO] \n",
    "    return [' '.join(tokens[i:i+n]) for i in range(len(tokens)-1)]\n",
    "#     ngram = []\n",
    "#     for i in range(len(tokens)-1):\n",
    "#         ngram.append(tokens[i:i+n])\n",
    "#     return ngram"
   ]
  },
  {
   "cell_type": "markdown",
   "id": "3a3a33e6",
   "metadata": {},
   "source": [
    "#### read data/BNC_adj_accident.txt\n",
    "#### count each adj. + accident number\n",
    "{'above accident': 1, 'abseiling accident': 2, 'actual accident': 11, 'additional accident': 1, 'annual accident': 1}"
   ]
  },
  {
   "cell_type": "code",
   "execution_count": 3,
   "id": "96eb3aec",
   "metadata": {},
   "outputs": [],
   "source": [
    "def accident(line):\n",
    "    tokens = line.split()\n",
    "    num = tokens[-1]\n",
    "    adj = tokens[-3]\n",
    "    return adj, num"
   ]
  },
  {
   "cell_type": "code",
   "execution_count": 4,
   "id": "331fb046",
   "metadata": {},
   "outputs": [
    {
     "name": "stdout",
     "output_type": "stream",
     "text": [
      "defaultdict(<function zero at 0x7fb7a0048040>, {'above accident': 1, 'abseiling accident': 2, 'actual accident': 11, 'additional accident': 1, 'annual accident': 1, 'appalling accident': 5, 'avoidable accident': 1, 'awful accident': 3, 'bad accident': 16, 'ballooning accident': 1, 'big accident': 3, 'bizarre accident': 2, 'blame–free accident': 1, 'blameless accident': 1, 'blameworthy accident': 1, 'bleeding accident': 1, 'british accident': 1, 'catastrophic accident': 3, 'cerebral accident': 1, 'cerebro-vascular accident': 1, 'cerebrovascular accident': 5, 'certain accident': 3, 'chemical accident': 3, 'chernobyl-type accident': 2, 'classic accident': 1, 'closed accident': 1, 'collusive accident': 1, 'combined accident': 2, 'common accident': 1, 'complete accident': 6, 'conceivable accident': 1, 'considerable accident': 1, 'cricketing accident': 1, 'crippling accident': 1, 'cruel accident': 1, 'curious accident': 1, 'dangerous accident': 2, 'different accident': 1, 'disabling accident': 4, 'disastrous accident': 2, 'dismal accident': 1, 'dive-bombing accident': 1, 'divine accident': 1, 'diving accident': 1, 'domestic accident': 2, 'dreadful accident': 4, 'drink-drive accident': 1, 'drink-driving accident': 1, 'drowning accident': 6, 'early accident': 1, 'empty accident': 1, 'entertaining accident': 1, 'exceptional accident': 1, 'expensive accident': 1, 'experienced accident': 1, 'external accident': 2, 'famous accident': 1, 'fatal accident': 86, 'fateful accident': 1, 'fearful accident': 1, 'female accident': 1, 'fictitious accident': 1, 'first-lap accident': 1, 'flying accident': 7, 'fog-related accident': 1, 'ford-approved accident': 1, 'fortuitous accident': 1, 'fortunate accident': 1, 'freak accident': 28, 'free accident': 1, 'french accident': 1, 'fresh accident': 1, 'frightful accident': 1, 'front accident': 1, 'full accident': 3, 'genealogical accident': 1, 'genetic accident': 3, 'genuine accident': 1, 'geographical accident': 3, 'goddam accident': 1, 'good accident': 2, 'gory accident': 2, 'grave accident': 1, 'happy accident': 11, 'heavy accident': 1, 'hefty accident': 1, 'heroic accident': 1, 'hideous accident': 1, 'high accident': 6, 'historical accident': 17, 'hit-and-run accident': 10, 'horrendous accident': 2, 'horrible accident': 2, 'horrific accident': 12, 'horrifying accident': 1, 'huge accident': 1, 'hypothetical accident': 1, 'identifiable accident': 1, 'immediate accident': 2, 'impending accident': 1, 'improved accident': 3, 'incendiary accident': 1, 'increased accident': 1, 'industrial accident': 18, 'inevitable accident': 6, 'inexplicable accident': 1, 'insignificant accident': 1, 'interesting accident': 1, 'key accident': 1, 'large accident': 1, 'life-threatening accident': 1, 'likely accident': 1, 'little accident': 15, 'local accident': 1, 'loss-of-coolant accident': 1, 'lost-time accident': 1, 'low accident': 4, 'lowered accident': 1, 'lucky accident': 5, 'ludicrous accident': 1, 'macabre accident': 1, 'major accident': 23, 'male accident': 1, 'marine accident': 6, 'mean accident': 10, 'measured accident': 1, 'medical accident': 5, 'mere accident': 5, 'military accident': 1, 'minor accident': 9, 'miraculous accident': 1, 'mock accident': 1, 'modal accident': 1, 'multiple accident': 1, 'mutilating accident': 1, 'mysterious accident': 1, 'nasty accident': 17, 'national accident': 2, 'naval accident': 1, 'near accident': 2, 'near-fatal accident': 2, 'nepalese accident': 1, 'new accident': 2, 'non-fatal accident': 1, 'normal accident': 2, 'notifiable accident': 1, 'notorious accident': 2, 'nuclear accident': 42, 'objective accident': 1, 'obscure accident': 1, 'occupational accident': 1, 'official accident': 5, 'old accident': 1, 'one-off accident': 1, 'only accident': 1, 'onstage accident': 2, 'open accident': 1, 'original accident': 2, 'other accident': 1, 'over accident': 1, 'painful accident': 1, 'palazzese accident': 1, 'parachuting accident': 2, 'particular accident': 8, 'past accident': 1, 'peculiar accident': 2, 'personal accident': 28, 'physiological accident': 1, 'playing accident': 1, 'political accident': 1, 'poor accident': 3, 'possible accident': 3, 'potential accident': 2, 'predictable accident': 2, 'predicted accident': 1, 'preliminary accident': 1, 'previous accident': 1, 'proposed accident': 1, 'pure accident': 11, 'quarrying accident': 1, 'quiet accident': 1, 'racing accident': 1, 'raw accident': 1, 'real accident': 3, 'recent accident': 9, 'recommended accident': 1, 'recordable accident': 1, 'reduced accident': 1, 'related accident': 1, 'reportable accident': 1, 'resuscitated accident': 1, 'sad accident': 2, 'saved accident': 1, 'scalding accident': 1, 'seeming accident': 1, 'senseless accident': 1, 'separate accident': 2, 'serious accident': 61, 'severe accident': 4, 'shaming accident': 1, 'sheer accident': 1, 'silly accident': 2, 'similar accident': 8, 'simple accident': 3, 'simulated accident': 1, 'single accident': 3, 'slight accident': 4, 'small accident': 3, 'so-called accident': 1, 'social accident': 1, 'sorry accident': 1, 'specific accident': 2, 'spectacular accident': 3, 'spontaneous accident': 1, 'sporting accident': 3, 'strange accident': 3, 'structural accident': 1, 'stupid accident': 2, 'subjective accident': 1, 'subsequent accident': 1, 'substantial accident': 1, 'sudden accident': 2, 'supposed accident': 2, 'taxying accident': 2, 'terrible accident': 26, 'theoretical accident': 1, 'third-party accident': 1, 'tmi accident': 6, 'total accident': 1, 'tragic accident': 32, 'true accident': 1, 'two-car accident': 1, 'unavoidable accident': 1, 'unconstrained accident': 1, 'underground accident': 1, 'undisclosed accident': 1, 'unexplained accident': 2, 'unfortunate accident': 16, 'unknown accident': 1, 'unlucky accident': 1, 'unnecessary accident': 1, 'unplanned accident': 1, 'unspecified accident': 1, 'unsurvivable accident': 1, 'unthinkable accident': 1, 'various accident': 1, 'wretched accident': 1})\n"
     ]
    }
   ],
   "source": [
    "# drowning accident\tAJ0 NN1\tdrowning accident\t2\n",
    "# drowning accident\tAJ0-NN1 NN1\tdrowning accident\t4\n",
    "\n",
    "from collections import defaultdict\n",
    "\n",
    "file_path = os.path.join('BNC_adj_accident.txt')\n",
    "\n",
    "def zero():\n",
    "    return 0\n",
    "\n",
    "# a is dictionary\n",
    "# a = {'serios accident': 2, 'big accident': 4, ...}\n",
    "BNC_adj_accident = defaultdict(zero)\n",
    "with open(file_path, 'r') as f:\n",
    "    for line in f:\n",
    "        adj, num = accident(line)\n",
    "        adj_accident = adj+' accident'\n",
    "        BNC_adj_accident[adj_accident] = BNC_adj_accident[adj_accident] + int(num)\n",
    "print(BNC_adj_accident)\n"
   ]
  },
  {
   "cell_type": "markdown",
   "id": "c26c1fc0",
   "metadata": {},
   "source": [
    "### unigram of clang8 (not important)"
   ]
  },
  {
   "cell_type": "code",
   "execution_count": 6,
   "id": "dc2a8eb4",
   "metadata": {},
   "outputs": [],
   "source": [
    "# Read lang-8 Data\n",
    "file_path = os.path.join('clang8.txt')\n",
    "lang_unigram = []\n",
    "#lang_unigram_counter = Counter()\n",
    "\n",
    "#### [ TODO ] generate lang8 unigrams and calculate document frequency of unigram in lang8\n",
    "with open(file_path, 'r') as f:\n",
    "    for line in f:\n",
    "        tokens = tokenize(line)\n",
    "        lang_unigram.extend(tokens)\n",
    "clang_unigram_counter = calculate_frequency(lang_unigram)\n"
   ]
  },
  {
   "cell_type": "markdown",
   "id": "498e9ede",
   "metadata": {},
   "source": [
    "## Rank (not important)\n",
    "Rank unigrms by their frequencies. The higher the frequency, the higher the rank. (The most frequent unigram ranks 1.)<br>\n",
    "<span style=\"color: red\">[ TODO ]</span> <u>Rank unigrams for Lang-8 and BNC.</u>."
   ]
  },
  {
   "cell_type": "code",
   "execution_count": 20,
   "id": "dc84db5d",
   "metadata": {},
   "outputs": [],
   "source": [
    "\n",
    "clang_unigram_Rank = {}\n",
    "\n",
    "#### [ TODO ] Rank unigrams for lang\n",
    "\n",
    "#sort 与 sorted 区别：\n",
    "#sort 是应用在 list 上的方法，sorted 可以对所有可迭代的对象进行排序操作。\n",
    "#list 的 sort 方法返回的是对已经存在的列表进行操作，无返回值，而内建函数 sorted 方法返回的是一个新的 list，而不是在原来的基础上进行的操作。\n",
    "#sorted return 由小到大 -> reverse\n",
    "#用value排序，由大到小所以reverse\n",
    "\n",
    "for i, unigram in enumerate(sorted(clang_unigram_counter.items(), key=lambda item: item[1], reverse=True)):\n",
    "    # type(sorted(xxxx)): list\n",
    "    # unigram = [{'a': 10}, {'b': 100}, {'c': 20}..]\n",
    "    # RATIO 用dictionary不用包兩層回圈, 用list就要\n",
    "    clang_unigram_Rank[unigram[0]]= i+1\n",
    "    #clang_unigram_Rank.append((unigram[0], i+1))"
   ]
  },
  {
   "cell_type": "code",
   "execution_count": 21,
   "id": "c18f81bb",
   "metadata": {},
   "outputs": [
    {
     "data": {
      "text/plain": [
       "{'i': 1,\n",
       " 'the': 2,\n",
       " 'to': 3,\n",
       " 'a': 4,\n",
       " 'and': 5,\n",
       " 'is': 6,\n",
       " 'in': 7,\n",
       " 'it': 8,\n",
       " 'of': 9,\n",
       " 'my': 10,\n",
       " 'that': 11,\n",
       " 'for': 12,\n",
       " 'was': 13,\n",
       " 'you': 14,\n",
       " 'have': 15,\n",
       " 'so': 16,\n",
       " 'but': 17,\n",
       " 'this': 18,\n",
       " 'do': 19,\n",
       " 'nt': 20}"
      ]
     },
     "execution_count": 21,
     "metadata": {},
     "output_type": "execute_result"
    }
   ],
   "source": [
    "dict(list(clang_unigram_Rank.items())[0:20])"
   ]
  },
  {
   "cell_type": "markdown",
   "id": "a1e42081",
   "metadata": {},
   "source": [
    "## for Bigrams\n",
    "<span style=\"color: red\">[ TODO ]</span> Do the Same Thing for Bigrams  \n",
    "Hint:  \n",
    "1. generate all bigrams for BNC / lang8  \n",
    "2. calculate frequency for each bigrams  \n",
    "3. rank bigrams by frequency  \n",
    "4. calculate the rank ratio of each bigram\n",
    "5. print out the top 30 highest rank ratio bigrams  "
   ]
  },
  {
   "cell_type": "code",
   "execution_count": 7,
   "id": "a0266062",
   "metadata": {},
   "outputs": [
    {
     "data": {
      "text/plain": [
       "{'about winter': 19,\n",
       " 'this is': 24110,\n",
       " 'is my': 12978,\n",
       " 'my second': 861,\n",
       " 'second post': 26,\n",
       " 'i will': 36009}"
      ]
     },
     "execution_count": 7,
     "metadata": {},
     "output_type": "execute_result"
    }
   ],
   "source": [
    "#### [ TODO ] \n",
    "# generate all bigrams for lang8\n",
    "# calculate frequency for each bigrams\n",
    "file_path = os.path.join('clang8.txt')\n",
    "clang_bigram = []\n",
    "#lang_bigram_counter = Counter()\n",
    "\n",
    "#### [ TODO ] generate lang8 bigrams and calculate document frequency of bigram in lang8\n",
    "with open(file_path, 'r') as f:\n",
    "    for line in f:\n",
    "        tokens = tokenize(line)\n",
    "        # get_ngram return a list\n",
    "        bigram = get_ngram(tokens, n=2)\n",
    "        clang_bigram.extend(bigram)\n",
    "clang_bigram_counter = calculate_frequency(clang_bigram)\n",
    "\n",
    "dict(list(clang_bigram_counter.items())[0:6])"
   ]
  },
  {
   "cell_type": "markdown",
   "id": "02a85267",
   "metadata": {},
   "source": [
    "### compare 'clang_bigram_counter' with BNC_adj_accident\n",
    "### extract adj. accident which exists in BNC_adj_accident from clang_bigram_counter "
   ]
  },
  {
   "cell_type": "code",
   "execution_count": 9,
   "id": "1c8b56e5",
   "metadata": {},
   "outputs": [
    {
     "name": "stdout",
     "output_type": "stream",
     "text": [
      "43\n",
      "{'new accident': 1, 'dangerous accident': 6, 'nuclear accident': 56, 'unfortunate accident': 1, 'big accident': 21, 'awful accident': 2, 'horrible accident': 6, 'serious accident': 13, 'terrible accident': 20, 'bad accident': 18, 'small accident': 4, 'pure accident': 3, 'simple accident': 1, 'only accident': 1, 'sudden accident': 2, 'little accident': 7, 'lucky accident': 3, 'fatal accident': 6, 'similar accident': 2, 'tragic accident': 5, 'single accident': 2, 'mere accident': 1, 'recent accident': 2, 'experienced accident': 1, 'historical accident': 1, 'industrial accident': 2, 'happy accident': 4, 'cerebrovascular accident': 2, 'minor accident': 2, 'strange accident': 1, 'unlucky accident': 5, 'normal accident': 1, 'past accident': 1, 'racing accident': 1, 'major accident': 1, 'sad accident': 2, 'huge accident': 2, 'catastrophic accident': 1, 'gory accident': 1, 'mysterious accident': 1, 'unknown accident': 1, 'cruel accident': 1, 'playing accident': 1}\n"
     ]
    }
   ],
   "source": [
    "clang_accident_dic = {}\n",
    "for key, values in clang_bigram_counter.items():\n",
    "    if key in BNC_adj_accident.keys():\n",
    "        clang_accident_dic[key] = values\n",
    "        \n",
    "dict(list(clang_accident_dic.items())[0:6])\n",
    "print(len(clang_accident_dic))\n",
    "print(clang_accident_dic)"
   ]
  },
  {
   "cell_type": "code",
   "execution_count": 10,
   "id": "96c898b7",
   "metadata": {},
   "outputs": [],
   "source": [
    "#### [ TODO ]  clang_accident_Rank\n",
    "clang_accident_Rank = {}\n",
    "for i,bigram in enumerate(sorted(clang_accident_dic.items(), key=lambda item: item[1],reverse=True)):\n",
    "    clang_accident_Rank[bigram[0]] = i+1"
   ]
  },
  {
   "cell_type": "code",
   "execution_count": 12,
   "id": "c6c64e0f",
   "metadata": {},
   "outputs": [],
   "source": [
    "#### [ TODO ] rank bigrams by frequency\n",
    "BNC_adj_accident_Rank = {}\n",
    "for i,bigram in enumerate(sorted(BNC_adj_accident.items(), key=lambda item: item[1],reverse=True)):\n",
    "    BNC_adj_accident_Rank[bigram[0]] = i+1\n"
   ]
  },
  {
   "cell_type": "code",
   "execution_count": 13,
   "id": "740ffc6b",
   "metadata": {},
   "outputs": [
    {
     "data": {
      "text/plain": [
       "2"
      ]
     },
     "execution_count": 13,
     "metadata": {},
     "output_type": "execute_result"
    }
   ],
   "source": [
    "clang_accident_Rank['big accident']"
   ]
  },
  {
   "cell_type": "code",
   "execution_count": 14,
   "id": "1dc53fa1",
   "metadata": {},
   "outputs": [
    {
     "data": {
      "text/plain": [
       "44"
      ]
     },
     "execution_count": 14,
     "metadata": {},
     "output_type": "execute_result"
    }
   ],
   "source": [
    "BNC_adj_accident_Rank['big accident']"
   ]
  },
  {
   "cell_type": "code",
   "execution_count": 16,
   "id": "eb233a9e",
   "metadata": {},
   "outputs": [],
   "source": [
    "bi_rank_ratio = {}\n",
    "for word,rank in clang_accident_Rank.items():\n",
    "    #if word in BNC_bigram_Rank.keys():\n",
    "    bi_rank_ratio[word] = (BNC_adj_accident_Rank[word]/rank) if word in BNC_adj_accident_Rank.keys() else (1/rank)\n",
    " "
   ]
  },
  {
   "cell_type": "code",
   "execution_count": 17,
   "id": "062eaac1",
   "metadata": {},
   "outputs": [],
   "source": [
    "bi_rank_ratio_2 = {}\n",
    "for word,rank in clang_accident_Rank.items():\n",
    "    #if word in BNC_bigram_Rank.keys():\n",
    "    bi_rank_ratio_2[word] = (rank/BNC_adj_accident_Rank[word]) if word in BNC_adj_accident_Rank.keys() else (rank)\n",
    " "
   ]
  },
  {
   "cell_type": "code",
   "execution_count": 21,
   "id": "15cd8025",
   "metadata": {},
   "outputs": [
    {
     "name": "stdout",
     "output_type": "stream",
     "text": [
      "\tPhrases\t\t\t\toveruse rank/rank\t\t\tBNC Rank\t\t\t Lang8 Rank\n",
      "1\tbig accident\t\t\t22.0\t\t\t\t44\t\t\t\t2\n",
      "2\tunlucky accident\t\t21.818\t\t\t\t240\t\t\t\t11\n",
      "3\tdangerous accident\t\t9.286\t\t\t\t65\t\t\t\t7\n",
      "4\thorrible accident\t\t9.0\t\t\t\t72\t\t\t\t8\n",
      "5\tonly accident\t\t\t6.586\t\t\t\t191\t\t\t\t29\n",
      "6\thuge accident\t\t\t6.16\t\t\t\t154\t\t\t\t25\n",
      "7\tunknown accident\t\t5.829\t\t\t\t239\t\t\t\t41\n",
      "8\tracing accident\t\t\t5.75\t\t\t\t207\t\t\t\t36\n",
      "9\tpast accident\t\t\t5.629\t\t\t\t197\t\t\t\t35\n",
      "10\tsudden accident\t\t\t5.353\t\t\t\t91\t\t\t\t17\n",
      "11\tsmall accident\t\t\t4.75\t\t\t\t57\t\t\t\t12\n",
      "12\tplaying accident\t\t4.628\t\t\t\t199\t\t\t\t43\n",
      "13\tmysterious accident\t\t4.525\t\t\t\t181\t\t\t\t40\n",
      "14\texperienced accident\t\t4.161\t\t\t\t129\t\t\t\t31\n",
      "15\tsad accident\t\t\t3.583\t\t\t\t86\t\t\t\t24\n",
      "16\tnuclear accident\t\t3.0\t\t\t\t3\t\t\t\t1\n",
      "17\tbad accident\t\t\t3.0\t\t\t\t12\t\t\t\t4\n",
      "18\tnew accident\t\t\t2.962\t\t\t\t77\t\t\t\t26\n",
      "19\tsingle accident\t\t\t2.947\t\t\t\t56\t\t\t\t19\n",
      "20\tcruel accident\t\t\t2.738\t\t\t\t115\t\t\t\t42\n",
      "21\tawful accident\t\t\t2.688\t\t\t\t43\t\t\t\t16\n",
      "22\tterrible accident\t\t2.333\t\t\t\t7\t\t\t\t3\n",
      "23\tlittle accident\t\t\t2.333\t\t\t\t14\t\t\t\t6\n",
      "24\tnormal accident\t\t\t2.294\t\t\t\t78\t\t\t\t34\n",
      "25\tlucky accident\t\t\t2.267\t\t\t\t34\t\t\t\t15\n",
      "26\tsimple accident\t\t\t1.964\t\t\t\t55\t\t\t\t28\n",
      "27\tstrange accident\t\t1.818\t\t\t\t60\t\t\t\t33\n",
      "28\tgory accident\t\t\t1.795\t\t\t\t70\t\t\t\t39\n",
      "29\tcerebrovascular accident\t\t1.5\t\t\t\t33\t\t\t\t22\n",
      "30\tsimilar accident\t\t1.333\t\t\t\t24\t\t\t\t18\n",
      "31\thappy accident\t\t\t1.308\t\t\t\t17\t\t\t\t13\n",
      "32\tpure accident\t\t\t1.286\t\t\t\t18\t\t\t\t14\n",
      "33\tmere accident\t\t\t1.2\t\t\t\t36\t\t\t\t30\n",
      "34\tcatastrophic accident\t\t1.184\t\t\t\t45\t\t\t\t38\n",
      "35\trecent accident\t\t\t1.1\t\t\t\t22\t\t\t\t20\n",
      "36\tminor accident\t\t\t0.913\t\t\t\t21\t\t\t\t23\n",
      "37\tunfortunate accident\t\t0.481\t\t\t\t13\t\t\t\t27\n",
      "38\tindustrial accident\t\t0.429\t\t\t\t9\t\t\t\t21\n",
      "39\tserious accident\t\t0.4\t\t\t\t2\t\t\t\t5\n",
      "40\ttragic accident\t\t\t0.4\t\t\t\t4\t\t\t\t10\n",
      "41\thistorical accident\t\t0.312\t\t\t\t10\t\t\t\t32\n",
      "42\tmajor accident\t\t\t0.216\t\t\t\t8\t\t\t\t37\n",
      "43\tfatal accident\t\t\t0.111\t\t\t\t1\t\t\t\t9\n"
     ]
    }
   ],
   "source": [
    "#### [ TODO ] \n",
    "# sorted(iterable, cmp=None, key=None, reverse=False)\n",
    "# bi_rank_ratio is a dictionary \n",
    "print(f'\\tPhrases\\t\\t\\t\\toveruse rank/rank\\t\\t\\tBNC Rank\\t\\t\\t Lang8 Rank')\n",
    "#for i,ratio_set in enumerate(sorted(BNC_adj_accident_Rank.items(), key=lambda item: item[1],reverse=True)[:]):\n",
    "#    print(f'{ratio_set[0]}\\t{bi_rank_ratio[ratio_set[0]]}\\t {BNC_adj_accident_Rank[ratio_set[0]]}\\t{BNC_adj_accident[ratio_set[0]]}\\t{clang_accident_Rank[ratio_set[0]]}\\t{(clang_accident_dic[ratio_set[0]])}\\t')\n",
    "    \n",
    "    # BNC_adj_accident_Rank[ratio_set[0]]/clang_accident_Rank[ratio_set[0]]\n",
    "    \n",
    "    \n",
    "for i,ratio_set in enumerate(sorted(bi_rank_ratio.items(), key=lambda item: item[1],reverse=True)[:]):\n",
    "    if len(ratio_set[0])>=16:\n",
    "        print(f'{i+1}\\t{ratio_set[0]}\\t\\t{round(ratio_set[1],3)}\\t\\t\\t\\t{BNC_adj_accident_Rank[ratio_set[0]]}\\t\\t\\t\\t{clang_accident_Rank[ratio_set[0]]}')\n",
    "    else:\n",
    "        print(f'{i+1}\\t{ratio_set[0]}\\t\\t\\t{round(ratio_set[1],3)}\\t\\t\\t\\t{BNC_adj_accident_Rank[ratio_set[0]]}\\t\\t\\t\\t{clang_accident_Rank[ratio_set[0]]}')\n",
    "  \n"
   ]
  },
  {
   "cell_type": "code",
   "execution_count": 23,
   "id": "b9cbbbe1",
   "metadata": {},
   "outputs": [
    {
     "name": "stdout",
     "output_type": "stream",
     "text": [
      "\tPhrases\t\t\t\toveruse rank/rank\t\tBNC Rank\t\t\t Lang8 Rank\n",
      "1\tfatal accident\t\t\t9.0\t\t\t\t1\t\t\t\t9\n",
      "2\tmajor accident\t\t\t4.625\t\t\t\t8\t\t\t\t37\n",
      "3\thistorical accident\t\t3.2\t\t\t\t10\t\t\t\t32\n",
      "4\tserious accident\t\t2.5\t\t\t\t2\t\t\t\t5\n",
      "5\ttragic accident\t\t\t2.5\t\t\t\t4\t\t\t\t10\n",
      "6\tindustrial accident\t\t2.333\t\t\t\t9\t\t\t\t21\n",
      "7\tunfortunate accident\t\t2.077\t\t\t\t13\t\t\t\t27\n",
      "8\tminor accident\t\t\t1.095\t\t\t\t21\t\t\t\t23\n",
      "9\trecent accident\t\t\t0.909\t\t\t\t22\t\t\t\t20\n",
      "10\tcatastrophic accident\t\t0.844\t\t\t\t45\t\t\t\t38\n",
      "11\tmere accident\t\t\t0.833\t\t\t\t36\t\t\t\t30\n",
      "12\tpure accident\t\t\t0.778\t\t\t\t18\t\t\t\t14\n",
      "13\thappy accident\t\t\t0.765\t\t\t\t17\t\t\t\t13\n",
      "14\tsimilar accident\t\t0.75\t\t\t\t24\t\t\t\t18\n",
      "15\tcerebrovascular accident\t\t0.667\t\t\t\t33\t\t\t\t22\n",
      "16\tgory accident\t\t\t0.557\t\t\t\t70\t\t\t\t39\n",
      "17\tstrange accident\t\t0.55\t\t\t\t60\t\t\t\t33\n",
      "18\tsimple accident\t\t\t0.509\t\t\t\t55\t\t\t\t28\n",
      "19\tlucky accident\t\t\t0.441\t\t\t\t34\t\t\t\t15\n",
      "20\tnormal accident\t\t\t0.436\t\t\t\t78\t\t\t\t34\n",
      "21\tterrible accident\t\t0.429\t\t\t\t7\t\t\t\t3\n",
      "22\tlittle accident\t\t\t0.429\t\t\t\t14\t\t\t\t6\n",
      "23\tawful accident\t\t\t0.372\t\t\t\t43\t\t\t\t16\n",
      "24\tcruel accident\t\t\t0.365\t\t\t\t115\t\t\t\t42\n",
      "25\tsingle accident\t\t\t0.339\t\t\t\t56\t\t\t\t19\n",
      "26\tnew accident\t\t\t0.338\t\t\t\t77\t\t\t\t26\n",
      "27\tnuclear accident\t\t0.333\t\t\t\t3\t\t\t\t1\n",
      "28\tbad accident\t\t\t0.333\t\t\t\t12\t\t\t\t4\n",
      "29\tsad accident\t\t\t0.279\t\t\t\t86\t\t\t\t24\n",
      "30\texperienced accident\t\t0.24\t\t\t\t129\t\t\t\t31\n",
      "31\tmysterious accident\t\t0.221\t\t\t\t181\t\t\t\t40\n",
      "32\tplaying accident\t\t0.216\t\t\t\t199\t\t\t\t43\n",
      "33\tsmall accident\t\t\t0.211\t\t\t\t57\t\t\t\t12\n",
      "34\tsudden accident\t\t\t0.187\t\t\t\t91\t\t\t\t17\n",
      "35\tpast accident\t\t\t0.178\t\t\t\t197\t\t\t\t35\n",
      "36\tracing accident\t\t\t0.174\t\t\t\t207\t\t\t\t36\n",
      "37\tunknown accident\t\t0.172\t\t\t\t239\t\t\t\t41\n",
      "38\thuge accident\t\t\t0.162\t\t\t\t154\t\t\t\t25\n",
      "39\tonly accident\t\t\t0.152\t\t\t\t191\t\t\t\t29\n",
      "40\thorrible accident\t\t0.111\t\t\t\t72\t\t\t\t8\n",
      "41\tdangerous accident\t\t0.108\t\t\t\t65\t\t\t\t7\n",
      "42\tunlucky accident\t\t0.046\t\t\t\t240\t\t\t\t11\n",
      "43\tbig accident\t\t\t0.045\t\t\t\t44\t\t\t\t2\n"
     ]
    }
   ],
   "source": [
    "print(f'\\tPhrases\\t\\t\\t\\toveruse rank/rank\\t\\tBNC Rank\\t\\t\\t Lang8 Rank')\n",
    "#for i,ratio_set in enumerate(sorted(BNC_adj_accident_Rank.items(), key=lambda item: item[1],reverse=True)[:]):\n",
    "#    print(f'{ratio_set[0]}\\t{bi_rank_ratio[ratio_set[0]]}\\t {BNC_adj_accident_Rank[ratio_set[0]]}\\t{BNC_adj_accident[ratio_set[0]]}\\t{clang_accident_Rank[ratio_set[0]]}\\t{(clang_accident_dic[ratio_set[0]])}\\t')\n",
    "    \n",
    "    # BNC_adj_accident_Rank[ratio_set[0]]/clang_accident_Rank[ratio_set[0]]\n",
    "    \n",
    "    \n",
    "for i,ratio_set in enumerate(sorted(bi_rank_ratio_2.items(), key=lambda item: item[1],reverse=True)[:]):\n",
    "    if len(ratio_set[0])>=16:\n",
    "        print(f'{i+1}\\t{ratio_set[0]}\\t\\t{round(ratio_set[1],3)}\\t\\t\\t\\t{BNC_adj_accident_Rank[ratio_set[0]]}\\t\\t\\t\\t{clang_accident_Rank[ratio_set[0]]}')\n",
    "    else:\n",
    "        print(f'{i+1}\\t{ratio_set[0]}\\t\\t\\t{round(ratio_set[1],3)}\\t\\t\\t\\t{BNC_adj_accident_Rank[ratio_set[0]]}\\t\\t\\t\\t{clang_accident_Rank[ratio_set[0]]}')\n",
    "    "
   ]
  },
  {
   "cell_type": "code",
   "execution_count": null,
   "id": "02e97347-d138-47b7-84b7-ea383591c593",
   "metadata": {},
   "outputs": [],
   "source": []
  }
 ],
 "metadata": {
  "colab": {
   "collapsed_sections": [],
   "provenance": []
  },
  "kernelspec": {
   "display_name": "Python 3 (ipykernel)",
   "language": "python",
   "name": "python3"
  },
  "language_info": {
   "codemirror_mode": {
    "name": "ipython",
    "version": 3
   },
   "file_extension": ".py",
   "mimetype": "text/x-python",
   "name": "python",
   "nbconvert_exporter": "python",
   "pygments_lexer": "ipython3",
   "version": "3.9.13"
  }
 },
 "nbformat": 4,
 "nbformat_minor": 5
}
